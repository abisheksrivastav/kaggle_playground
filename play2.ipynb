{
 "cells": [
  {
   "cell_type": "code",
   "execution_count": 1,
   "metadata": {},
   "outputs": [],
   "source": [
    "import os\n",
    "import numpy as np\n",
    "import pandas as pd"
   ]
  },
  {
   "cell_type": "code",
   "execution_count": 2,
   "metadata": {},
   "outputs": [
    {
     "name": "stdout",
     "output_type": "stream",
     "text": [
      "C:\\Users\\user\\kaggle_playground\\data\\GDP_data_2015_to_2019_Finland_Norway_Sweden.csv\n",
      "C:\\Users\\user\\kaggle_playground\\data\\sample_submission.csv\n",
      "C:\\Users\\user\\kaggle_playground\\data\\submission.csv\n",
      "C:\\Users\\user\\kaggle_playground\\data\\test.csv\n",
      "C:\\Users\\user\\kaggle_playground\\data\\train.csv\n"
     ]
    }
   ],
   "source": [
    "import os\n",
    "for dirname, _, filenames in os.walk('C:\\\\Users\\\\user\\\\kaggle_playground\\\\data'):\n",
    "    for filename in filenames:\n",
    "        print(os.path.join(dirname, filename))"
   ]
  },
  {
   "cell_type": "code",
   "execution_count": 8,
   "metadata": {},
   "outputs": [],
   "source": [
    "targetName = 'num_sold'\n",
    "competitionDir = 'C:\\\\Users\\\\user\\\\kaggle_playground'\n",
    "submission = pd.read_csv('./data/submission.csv')"
   ]
  },
  {
   "cell_type": "code",
   "execution_count": 5,
   "metadata": {},
   "outputs": [],
   "source": [
    "preds = []\n",
    "for dirname, _, filenames in os.walk('C:\\\\Users\\\\user\\\\kaggle_playground\\\\data'):\n",
    "    for filename in filenames:\n",
    "        if (dirname != competitionDir) & ('.csv' in filename):\n",
    "            df = pd.read_csv(os.path.join(dirname, filename))\n",
    "            if (len(df) == len(submission)) & (len(df.columns) == len(submission.columns)):\n",
    "                try:\n",
    "                    preds.append(df[targetName])\n",
    "                except Exception:\n",
    "                    pass"
   ]
  },
  {
   "cell_type": "code",
   "execution_count": 6,
   "metadata": {},
   "outputs": [],
   "source": [
    "submission[targetName] = np.array(preds).mean(axis=0).transpose()\n",
    "\n",
    "submission.to_csv(\"submission_fa.csv\", index=False)"
   ]
  }
 ],
 "metadata": {
  "interpreter": {
   "hash": "337f1a600d345c50cd007a2461b073851b5ec4b77bc6c65adb33d085b42175ad"
  },
  "kernelspec": {
   "display_name": "Python 3.7.10 64-bit ('base': conda)",
   "language": "python",
   "name": "python3"
  },
  "language_info": {
   "codemirror_mode": {
    "name": "ipython",
    "version": 3
   },
   "file_extension": ".py",
   "mimetype": "text/x-python",
   "name": "python",
   "nbconvert_exporter": "python",
   "pygments_lexer": "ipython3",
   "version": "3.7.10"
  },
  "orig_nbformat": 4
 },
 "nbformat": 4,
 "nbformat_minor": 2
}
